{
 "cells": [
  {
   "cell_type": "markdown",
   "id": "1a44a64b-ad29-4621-bac4-fc803e1322dc",
   "metadata": {},
   "source": [
    "Q1, Create a vehicle class with an init method having instance variables as name_of_vehicle, max_speed\n",
    "and average_of_vehicle."
   ]
  },
  {
   "cell_type": "code",
   "execution_count": 5,
   "id": "72433f20-70de-4814-8860-859687b98fa5",
   "metadata": {},
   "outputs": [],
   "source": [
    "class Vehicle:\n",
    "\n",
    "    def __init__(self,name_of_vehicle,max_speed,average_od_vehicle):\n",
    "        self.name_of_vehicle=name_of_vehicle\n",
    "        self.max_speed=max_speed\n",
    "        self.average_od_vehicle=average_od_vehicle\n",
    "\n",
    "    def display(self):\n",
    "        print(self.name_of_vehicle,self.max_speed,self.average_od_vehicle)"
   ]
  },
  {
   "cell_type": "code",
   "execution_count": 6,
   "id": "f8e9184f-7264-46bf-a603-2a417396d2e9",
   "metadata": {},
   "outputs": [],
   "source": [
    "obj=Vehicle(\"maruti\",\"160\",\"70\")"
   ]
  },
  {
   "cell_type": "code",
   "execution_count": 7,
   "id": "14d577cc-4b4e-40bc-804d-044c2e858970",
   "metadata": {},
   "outputs": [
    {
     "name": "stdout",
     "output_type": "stream",
     "text": [
      "maruti 160 70\n"
     ]
    }
   ],
   "source": [
    "obj.display()"
   ]
  },
  {
   "cell_type": "markdown",
   "id": "a9d8e6a1-d61b-4ae2-9450-ff8fdeed40f2",
   "metadata": {},
   "source": [
    "Q2. Create a child class car from the vehicle class created in Que 1, which will inherit the vehicle class.\n",
    "Create a method named seating_capacity which takes capacity as an argument and returns the name of\n",
    "the vehicle and its seating capacity."
   ]
  },
  {
   "cell_type": "code",
   "execution_count": 18,
   "id": "e71a53aa-5cdb-42e0-9ada-ce60e511583c",
   "metadata": {},
   "outputs": [],
   "source": [
    "class Car(Vehicle):\n",
    "    def seating_capacity(self,seat):\n",
    "        return self.name_of_vehicle,seat"
   ]
  },
  {
   "cell_type": "code",
   "execution_count": 19,
   "id": "57822bad-abe1-477f-a2ce-6d80ddac117b",
   "metadata": {},
   "outputs": [],
   "source": [
    "Obj2=Car(\"maruti\",\"160\",\"70\")"
   ]
  },
  {
   "cell_type": "code",
   "execution_count": 20,
   "id": "913e4e9c-c8f1-4455-9cf3-242d530a665a",
   "metadata": {},
   "outputs": [
    {
     "data": {
      "text/plain": [
       "('maruti', 6)"
      ]
     },
     "execution_count": 20,
     "metadata": {},
     "output_type": "execute_result"
    }
   ],
   "source": [
    "Obj2.seating_capacity(6)"
   ]
  },
  {
   "cell_type": "markdown",
   "id": "bbc4bf2a-de69-4b90-b046-c7ea914a3918",
   "metadata": {},
   "source": [
    "Q3. What is multiple inheritance? Write a python code to demonstrate multiple inheritance."
   ]
  },
  {
   "cell_type": "raw",
   "id": "72cff6c3-6b76-4437-a733-8fb21d23b46f",
   "metadata": {},
   "source": [
    "Multiple inheritance=>When more than one subclassess inherits the property of the one parent class then this is know for multiple \n",
    "inheritance.\n"
   ]
  },
  {
   "cell_type": "code",
   "execution_count": 27,
   "id": "e1e7d711-a416-496c-bb4d-c4d1bdf474eb",
   "metadata": {},
   "outputs": [],
   "source": [
    "#Example-\n",
    "\n",
    "class Animal:\n",
    "\n",
    "    def run(self):\n",
    "        print(\"Animals are running\")\n",
    "\n",
    "    def eat(self):\n",
    "        print(\"Animals are eating\")\n",
    "\n",
    "\n",
    "class Dog(Animal):\n",
    "\n",
    "    def Bark(self):\n",
    "        print(\"Dogs are barking\")\n",
    "\n",
    "class Bird(Animal):\n",
    "    def fly(self):\n",
    "        print(\"Birds are flying\")"
   ]
  },
  {
   "cell_type": "code",
   "execution_count": 28,
   "id": "7dbd49bd-a81c-4171-8b84-1133fb0caa3a",
   "metadata": {},
   "outputs": [],
   "source": [
    "obj1=Dog()"
   ]
  },
  {
   "cell_type": "code",
   "execution_count": 29,
   "id": "dfdd173a-9843-4a28-a68c-bc932b70dcb4",
   "metadata": {},
   "outputs": [
    {
     "name": "stdout",
     "output_type": "stream",
     "text": [
      "Animals are running\n"
     ]
    }
   ],
   "source": [
    "obj1.run()"
   ]
  },
  {
   "cell_type": "code",
   "execution_count": 30,
   "id": "f74ecf2e-1f76-4537-8ea7-bdcd582e792c",
   "metadata": {},
   "outputs": [],
   "source": [
    "obj2=Bird()"
   ]
  },
  {
   "cell_type": "code",
   "execution_count": 31,
   "id": "eceb29da-ea31-4ec9-b7fc-93a9b8e34900",
   "metadata": {},
   "outputs": [
    {
     "name": "stdout",
     "output_type": "stream",
     "text": [
      "Animals are eating\n"
     ]
    }
   ],
   "source": [
    "obj2.eat()"
   ]
  },
  {
   "cell_type": "markdown",
   "id": "30257dbe-49af-4a54-b277-dfe37330c43a",
   "metadata": {},
   "source": [
    "Q4. What are getter and setter in python? Create a class and create a getter and a setter method in this\n",
    "class."
   ]
  },
  {
   "cell_type": "raw",
   "id": "34119b5c-9fad-4ad9-8e8e-c0d9f6c863ae",
   "metadata": {},
   "source": [
    "getter and setter methods are used to control access to the attributes of a class. They provide a way to get (read) or set (modify)\n",
    "the values of private attributes while encapsulating the logic for accessing or updating these values.\n",
    "\n",
    "Getter Method:\n",
    "Purpose: To retrieve the value of a private attribute.\n",
    "How: Defined using the @property decorator. This decorator allows us to define a method that can be accessed like an attribute.\n",
    "Setter Method:\n",
    "Purpose: To modify the value of a private attribute.\n",
    "How: Defined using the @<property_name>.setter decorator. This decorator allows us to define a method that sets the value of an attribute."
   ]
  },
  {
   "cell_type": "code",
   "execution_count": 32,
   "id": "f2da73c3-5893-451e-b511-e886a048cf36",
   "metadata": {},
   "outputs": [],
   "source": [
    "class Person:\n",
    "    def __init__(self, name, age):\n",
    "        self.__name = name   # Private attribute\n",
    "        self.__age = age     # Private attribute\n",
    "\n",
    "    @property\n",
    "    def name(self):\n",
    "        \"\"\"Getter for name\"\"\"\n",
    "        return self.__name\n",
    "\n",
    "    @name.setter\n",
    "    def name(self, value):\n",
    "        \"\"\"Setter for name\"\"\"\n",
    "        if isinstance(value, str) and value:\n",
    "            self.__name = value\n",
    "        else:\n",
    "            raise ValueError(\"Name must be a non-empty string\")\n",
    "\n",
    "    @property\n",
    "    def age(self):\n",
    "        \"\"\"Getter for age\"\"\"\n",
    "        return self.__age\n",
    "\n",
    "    @age.setter\n",
    "    def age(self, value):\n",
    "        \"\"\"Setter for age\"\"\"\n",
    "        if isinstance(value, int) and value > 0:\n",
    "            self.__age = value\n",
    "        else:\n",
    "            raise ValueError(\"Age must be a positive integer\")\n",
    "\n",
    "\n"
   ]
  },
  {
   "cell_type": "code",
   "execution_count": 33,
   "id": "b881b24d-869d-4b15-9c19-063d2bca7851",
   "metadata": {},
   "outputs": [],
   "source": [
    "person = Person(\"Alice\", 30)"
   ]
  },
  {
   "cell_type": "code",
   "execution_count": 35,
   "id": "8aa9d154-46c3-4fe1-b99c-13f0ae18248c",
   "metadata": {},
   "outputs": [
    {
     "data": {
      "text/plain": [
       "'Alice'"
      ]
     },
     "execution_count": 35,
     "metadata": {},
     "output_type": "execute_result"
    }
   ],
   "source": [
    "person.name\n"
   ]
  },
  {
   "cell_type": "code",
   "execution_count": 36,
   "id": "51a6f6a6-2125-4095-a556-44b9790d13d3",
   "metadata": {},
   "outputs": [
    {
     "data": {
      "text/plain": [
       "30"
      ]
     },
     "execution_count": 36,
     "metadata": {},
     "output_type": "execute_result"
    }
   ],
   "source": [
    "person.age "
   ]
  },
  {
   "cell_type": "code",
   "execution_count": 37,
   "id": "cebad526-7e2c-4be3-ae61-815577799f1c",
   "metadata": {},
   "outputs": [],
   "source": [
    "person.name = \"abhay\"\n",
    "person.age = 24"
   ]
  },
  {
   "cell_type": "code",
   "execution_count": 38,
   "id": "c97530d8-308b-43da-b3c5-bb416fd9db96",
   "metadata": {},
   "outputs": [
    {
     "data": {
      "text/plain": [
       "'abhay'"
      ]
     },
     "execution_count": 38,
     "metadata": {},
     "output_type": "execute_result"
    }
   ],
   "source": [
    "person.name\n"
   ]
  },
  {
   "cell_type": "code",
   "execution_count": 39,
   "id": "2708eeff-e5ad-473d-a8b5-0ba530cb3529",
   "metadata": {},
   "outputs": [
    {
     "data": {
      "text/plain": [
       "24"
      ]
     },
     "execution_count": 39,
     "metadata": {},
     "output_type": "execute_result"
    }
   ],
   "source": [
    "person.age"
   ]
  },
  {
   "cell_type": "markdown",
   "id": "937fd711-d450-4980-b5f0-3426f3c6da7b",
   "metadata": {},
   "source": [
    "Q5.What is method overriding in python? Write a python code to demonstrate method overriding."
   ]
  },
  {
   "cell_type": "raw",
   "id": "c437ee01-7e8d-41ca-8a15-42f7dd755354",
   "metadata": {},
   "source": [
    "This occurs when a subclass provides a specific implementation for a method that is already defined in its superclass.\n",
    "This allows the subclass to modify or extend the behavior of that method, giving it more specific functionality.\n",
    "\n",
    "Key Points about Method Overriding:\n",
    "\n",
    "Inheritance: Method overriding is used in the context of inheritance, where a subclass inherits methods from a superclass.\n",
    "Same Method Name: The method in the subclass must have the same name as the method in the superclass.\n",
    "Different Implementation: The method in the subclass provides a different implementation than the one in the superclass"
   ]
  },
  {
   "cell_type": "code",
   "execution_count": 40,
   "id": "22d44ffb-f5df-4f5d-a95f-8dc08644c0ed",
   "metadata": {},
   "outputs": [],
   "source": [
    "class Animal:\n",
    "    def make_sound(self):\n",
    "        print(\"Some generic animal sound\")\n",
    "\n",
    "class Dog(Animal):\n",
    "    def make_sound(self):\n",
    "        print(\"Woof!\")\n",
    "\n",
    "class Cat(Animal):\n",
    "    def make_sound(self):\n",
    "        print(\"Meow!\")\n",
    "\n"
   ]
  },
  {
   "cell_type": "code",
   "execution_count": null,
   "id": "b16aa46e-c403-42fc-882e-86d320d070a6",
   "metadata": {},
   "outputs": [],
   "source": [
    "# Creating instances of the subclasses\n",
    "dog = Dog()\n",
    "cat = Cat()\n",
    "\n",
    "# Calling the overridden method\n",
    "dog.make_sound()  # Output: Woof!\n",
    "cat.make_sound()  # Output: Meow!\n",
    "\n",
    "# Calling the method from the superclass\n",
    "generic_animal = Animal()\n",
    "generic_animal.make_sound()  # Output: Some generic animal sound\n"
   ]
  },
  {
   "cell_type": "code",
   "execution_count": 41,
   "id": "62c9d1ff-8219-4d32-b201-5f9c881252aa",
   "metadata": {},
   "outputs": [],
   "source": [
    "\n",
    "dog = Dog()\n",
    "cat = Cat()"
   ]
  },
  {
   "cell_type": "code",
   "execution_count": null,
   "id": "e61e6929-8e65-45a4-863e-5382230ff0b8",
   "metadata": {},
   "outputs": [],
   "source": [
    "dog.make_sound()  # Output: Woof!\n"
   ]
  }
 ],
 "metadata": {
  "kernelspec": {
   "display_name": "Python 3 (ipykernel)",
   "language": "python",
   "name": "python3"
  },
  "language_info": {
   "codemirror_mode": {
    "name": "ipython",
    "version": 3
   },
   "file_extension": ".py",
   "mimetype": "text/x-python",
   "name": "python",
   "nbconvert_exporter": "python",
   "pygments_lexer": "ipython3",
   "version": "3.12.4"
  }
 },
 "nbformat": 4,
 "nbformat_minor": 5
}
